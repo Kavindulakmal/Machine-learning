{
 "cells": [
  {
   "cell_type": "code",
   "execution_count": 1,
   "id": "73e38f0d",
   "metadata": {},
   "outputs": [],
   "source": [
    "import numpy as np\n",
    "import pandas as pd\n",
    "from matplotlib import pyplot as plt"
   ]
  },
  {
   "cell_type": "code",
   "execution_count": 2,
   "id": "a0736f21",
   "metadata": {},
   "outputs": [],
   "source": [
    "import statsmodels.api as sm\n",
    "from sklearn.linear_model import LinearRegression"
   ]
  },
  {
   "cell_type": "code",
   "execution_count": 3,
   "id": "7d0cc4fa",
   "metadata": {},
   "outputs": [],
   "source": [
    "data=pd.read_csv(\"CarPrice.csv\")"
   ]
  },
  {
   "cell_type": "code",
   "execution_count": 5,
   "id": "4a25204a",
   "metadata": {},
   "outputs": [
    {
     "data": {
      "text/html": [
       "<div>\n",
       "<style scoped>\n",
       "    .dataframe tbody tr th:only-of-type {\n",
       "        vertical-align: middle;\n",
       "    }\n",
       "\n",
       "    .dataframe tbody tr th {\n",
       "        vertical-align: top;\n",
       "    }\n",
       "\n",
       "    .dataframe thead th {\n",
       "        text-align: right;\n",
       "    }\n",
       "</style>\n",
       "<table border=\"1\" class=\"dataframe\">\n",
       "  <thead>\n",
       "    <tr style=\"text-align: right;\">\n",
       "      <th></th>\n",
       "      <th>fuelType</th>\n",
       "      <th>length</th>\n",
       "      <th>height</th>\n",
       "      <th>cylinders</th>\n",
       "      <th>engine-size</th>\n",
       "      <th>hourse power</th>\n",
       "      <th>price</th>\n",
       "    </tr>\n",
       "  </thead>\n",
       "  <tbody>\n",
       "    <tr>\n",
       "      <th>0</th>\n",
       "      <td>gas</td>\n",
       "      <td>168.8</td>\n",
       "      <td>48.8</td>\n",
       "      <td>four</td>\n",
       "      <td>130</td>\n",
       "      <td>111</td>\n",
       "      <td>13495</td>\n",
       "    </tr>\n",
       "    <tr>\n",
       "      <th>1</th>\n",
       "      <td>gas</td>\n",
       "      <td>168.8</td>\n",
       "      <td>48.8</td>\n",
       "      <td>four</td>\n",
       "      <td>130</td>\n",
       "      <td>111</td>\n",
       "      <td>16500</td>\n",
       "    </tr>\n",
       "    <tr>\n",
       "      <th>2</th>\n",
       "      <td>gas</td>\n",
       "      <td>171.2</td>\n",
       "      <td>52.4</td>\n",
       "      <td>six</td>\n",
       "      <td>152</td>\n",
       "      <td>154</td>\n",
       "      <td>16500</td>\n",
       "    </tr>\n",
       "    <tr>\n",
       "      <th>3</th>\n",
       "      <td>gas</td>\n",
       "      <td>176.6</td>\n",
       "      <td>54.3</td>\n",
       "      <td>four</td>\n",
       "      <td>109</td>\n",
       "      <td>102</td>\n",
       "      <td>13950</td>\n",
       "    </tr>\n",
       "    <tr>\n",
       "      <th>4</th>\n",
       "      <td>gas</td>\n",
       "      <td>176.6</td>\n",
       "      <td>54.3</td>\n",
       "      <td>five</td>\n",
       "      <td>136</td>\n",
       "      <td>115</td>\n",
       "      <td>17450</td>\n",
       "    </tr>\n",
       "  </tbody>\n",
       "</table>\n",
       "</div>"
      ],
      "text/plain": [
       "  fuelType  length  height cylinders  engine-size  hourse power  price\n",
       "0      gas   168.8    48.8      four          130           111  13495\n",
       "1      gas   168.8    48.8      four          130           111  16500\n",
       "2      gas   171.2    52.4       six          152           154  16500\n",
       "3      gas   176.6    54.3      four          109           102  13950\n",
       "4      gas   176.6    54.3      five          136           115  17450"
      ]
     },
     "execution_count": 5,
     "metadata": {},
     "output_type": "execute_result"
    }
   ],
   "source": [
    "data.head()"
   ]
  },
  {
   "cell_type": "code",
   "execution_count": 6,
   "id": "e3ec0d82",
   "metadata": {},
   "outputs": [
    {
     "data": {
      "text/plain": [
       "(195, 7)"
      ]
     },
     "execution_count": 6,
     "metadata": {},
     "output_type": "execute_result"
    }
   ],
   "source": [
    "data.shape"
   ]
  },
  {
   "cell_type": "code",
   "execution_count": 39,
   "id": "3006d8e8",
   "metadata": {},
   "outputs": [],
   "source": [
    "X1=data.iloc[:,:-6].values"
   ]
  },
  {
   "cell_type": "code",
   "execution_count": 40,
   "id": "d1230a87",
   "metadata": {},
   "outputs": [
    {
     "data": {
      "text/plain": [
       "array([['gas'],\n",
       "       ['gas'],\n",
       "       ['gas'],\n",
       "       ['gas'],\n",
       "       ['gas'],\n",
       "       ['gas'],\n",
       "       ['gas'],\n",
       "       ['gas'],\n",
       "       ['gas'],\n",
       "       ['gas'],\n",
       "       ['gas'],\n",
       "       ['gas'],\n",
       "       ['gas'],\n",
       "       ['gas'],\n",
       "       ['gas'],\n",
       "       ['gas'],\n",
       "       ['gas'],\n",
       "       ['gas'],\n",
       "       ['gas'],\n",
       "       ['gas'],\n",
       "       ['gas'],\n",
       "       ['gas'],\n",
       "       ['gas'],\n",
       "       ['gas'],\n",
       "       ['gas'],\n",
       "       ['gas'],\n",
       "       ['gas'],\n",
       "       ['gas'],\n",
       "       ['gas'],\n",
       "       ['gas'],\n",
       "       ['gas'],\n",
       "       ['gas'],\n",
       "       ['gas'],\n",
       "       ['gas'],\n",
       "       ['gas'],\n",
       "       ['gas'],\n",
       "       ['gas'],\n",
       "       ['gas'],\n",
       "       ['gas'],\n",
       "       ['gas'],\n",
       "       ['gas'],\n",
       "       ['gas'],\n",
       "       ['gas'],\n",
       "       ['gas'],\n",
       "       ['gas'],\n",
       "       ['gas'],\n",
       "       ['gas'],\n",
       "       ['gas'],\n",
       "       ['gas'],\n",
       "       ['gas'],\n",
       "       ['gas'],\n",
       "       ['gas'],\n",
       "       ['gas'],\n",
       "       ['gas'],\n",
       "       ['gas'],\n",
       "       ['gas'],\n",
       "       ['diesel'],\n",
       "       ['gas'],\n",
       "       ['gas'],\n",
       "       ['diesel'],\n",
       "       ['diesel'],\n",
       "       ['diesel'],\n",
       "       ['diesel'],\n",
       "       ['diesel'],\n",
       "       ['gas'],\n",
       "       ['gas'],\n",
       "       ['gas'],\n",
       "       ['gas'],\n",
       "       ['gas'],\n",
       "       ['gas'],\n",
       "       ['gas'],\n",
       "       ['gas'],\n",
       "       ['gas'],\n",
       "       ['gas'],\n",
       "       ['gas'],\n",
       "       ['gas'],\n",
       "       ['gas'],\n",
       "       ['gas'],\n",
       "       ['gas'],\n",
       "       ['gas'],\n",
       "       ['gas'],\n",
       "       ['gas'],\n",
       "       ['gas'],\n",
       "       ['diesel'],\n",
       "       ['gas'],\n",
       "       ['gas'],\n",
       "       ['gas'],\n",
       "       ['gas'],\n",
       "       ['gas'],\n",
       "       ['gas'],\n",
       "       ['gas'],\n",
       "       ['gas'],\n",
       "       ['gas'],\n",
       "       ['gas'],\n",
       "       ['gas'],\n",
       "       ['gas'],\n",
       "       ['gas'],\n",
       "       ['gas'],\n",
       "       ['gas'],\n",
       "       ['gas'],\n",
       "       ['gas'],\n",
       "       ['diesel'],\n",
       "       ['gas'],\n",
       "       ['diesel'],\n",
       "       ['gas'],\n",
       "       ['diesel'],\n",
       "       ['gas'],\n",
       "       ['diesel'],\n",
       "       ['gas'],\n",
       "       ['diesel'],\n",
       "       ['gas'],\n",
       "       ['gas'],\n",
       "       ['gas'],\n",
       "       ['gas'],\n",
       "       ['gas'],\n",
       "       ['gas'],\n",
       "       ['gas'],\n",
       "       ['gas'],\n",
       "       ['gas'],\n",
       "       ['gas'],\n",
       "       ['gas'],\n",
       "       ['gas'],\n",
       "       ['gas'],\n",
       "       ['gas'],\n",
       "       ['gas'],\n",
       "       ['gas'],\n",
       "       ['gas'],\n",
       "       ['gas'],\n",
       "       ['gas'],\n",
       "       ['gas'],\n",
       "       ['gas'],\n",
       "       ['gas'],\n",
       "       ['gas'],\n",
       "       ['gas'],\n",
       "       ['gas'],\n",
       "       ['gas'],\n",
       "       ['gas'],\n",
       "       ['gas'],\n",
       "       ['gas'],\n",
       "       ['gas'],\n",
       "       ['gas'],\n",
       "       ['gas'],\n",
       "       ['gas'],\n",
       "       ['gas'],\n",
       "       ['gas'],\n",
       "       ['gas'],\n",
       "       ['gas'],\n",
       "       ['gas'],\n",
       "       ['diesel'],\n",
       "       ['diesel'],\n",
       "       ['gas'],\n",
       "       ['gas'],\n",
       "       ['gas'],\n",
       "       ['gas'],\n",
       "       ['gas'],\n",
       "       ['gas'],\n",
       "       ['gas'],\n",
       "       ['gas'],\n",
       "       ['gas'],\n",
       "       ['gas'],\n",
       "       ['gas'],\n",
       "       ['gas'],\n",
       "       ['gas'],\n",
       "       ['gas'],\n",
       "       ['diesel'],\n",
       "       ['gas'],\n",
       "       ['gas'],\n",
       "       ['gas'],\n",
       "       ['gas'],\n",
       "       ['gas'],\n",
       "       ['gas'],\n",
       "       ['gas'],\n",
       "       ['diesel'],\n",
       "       ['gas'],\n",
       "       ['diesel'],\n",
       "       ['gas'],\n",
       "       ['gas'],\n",
       "       ['diesel'],\n",
       "       ['gas'],\n",
       "       ['gas'],\n",
       "       ['gas'],\n",
       "       ['gas'],\n",
       "       ['diesel'],\n",
       "       ['gas'],\n",
       "       ['gas'],\n",
       "       ['gas'],\n",
       "       ['gas'],\n",
       "       ['gas'],\n",
       "       ['gas'],\n",
       "       ['gas'],\n",
       "       ['gas'],\n",
       "       ['gas'],\n",
       "       ['gas'],\n",
       "       ['diesel'],\n",
       "       ['gas']], dtype=object)"
      ]
     },
     "execution_count": 40,
     "metadata": {},
     "output_type": "execute_result"
    }
   ],
   "source": [
    "X1"
   ]
  },
  {
   "cell_type": "code",
   "execution_count": 12,
   "id": "75a9e9dc",
   "metadata": {},
   "outputs": [],
   "source": [
    "Y=data.iloc[:,6].values"
   ]
  },
  {
   "cell_type": "code",
   "execution_count": 13,
   "id": "d6837716",
   "metadata": {},
   "outputs": [
    {
     "data": {
      "text/plain": [
       "array([13495, 16500, 16500, 13950, 17450, 15250, 17710, 18920, 23875,\n",
       "       16430, 16925, 20970, 21105, 24565, 30760, 41315, 36880,  5151,\n",
       "        6295,  6575,  5572,  6377,  7957,  6229,  6692,  7609,  8558,\n",
       "        8921, 12964,  6479,  6855,  5399,  6529,  7129,  7295,  7295,\n",
       "        7895,  9095,  8845, 10295, 12945, 10345,  6785, 11048, 32250,\n",
       "       35550, 36000,  5195,  6095,  6795,  6695,  7395,  8845,  8495,\n",
       "       10595, 10245, 10795, 11245, 18280, 18344, 25552, 28248, 28176,\n",
       "       31600, 34184, 35056, 40960, 45400, 16503,  5389,  6189,  6669,\n",
       "        7689,  9959,  8499, 12629, 14869, 14489,  6989,  8189,  9279,\n",
       "        9279,  5499,  7099,  6649,  6849,  7349,  7299,  7799,  7499,\n",
       "        7999,  8249,  8949,  9549, 13499, 14399, 13499, 17199, 19699,\n",
       "       18399, 11900, 13200, 12440, 13860, 15580, 16900, 16695, 17075,\n",
       "       16630, 17950, 18150,  5572,  7957,  6229,  6692,  7609,  8921,\n",
       "       12764, 22018, 32528, 34028, 37028, 11850, 12170, 15040, 15510,\n",
       "       18150, 18620,  5118,  7053,  7603,  7126,  7775,  9960,  9233,\n",
       "       11259,  7463, 10198,  8013, 11694,  5348,  6338,  6488,  6918,\n",
       "        7898,  8778,  6938,  7198,  7898,  7788,  7738,  8358,  9258,\n",
       "        8058,  8238,  9298,  9538,  8449,  9639,  9989, 11199, 11549,\n",
       "       17669,  8948, 10698,  9988, 10898, 11248, 16558, 15998, 15690,\n",
       "       15750,  7775,  7975,  7995,  8195,  8495,  9495,  9995, 11595,\n",
       "        9980, 13295, 13845, 12290, 12940, 13415, 15985, 16515, 18420,\n",
       "       18950, 16845, 19045, 21485, 22470, 22625], dtype=int64)"
      ]
     },
     "execution_count": 13,
     "metadata": {},
     "output_type": "execute_result"
    }
   ],
   "source": [
    "Y"
   ]
  },
  {
   "cell_type": "code",
   "execution_count": 65,
   "id": "45119e2f",
   "metadata": {},
   "outputs": [],
   "source": [
    "X1=data.iloc[::,1].values"
   ]
  },
  {
   "cell_type": "code",
   "execution_count": 66,
   "id": "03febdd2",
   "metadata": {},
   "outputs": [
    {
     "data": {
      "text/plain": [
       "array([['gas', 168.8],\n",
       "       ['gas', 168.8],\n",
       "       ['gas', 171.2],\n",
       "       ['gas', 176.6],\n",
       "       ['gas', 176.6],\n",
       "       ['gas', 177.3],\n",
       "       ['gas', 192.7],\n",
       "       ['gas', 192.7],\n",
       "       ['gas', 192.7],\n",
       "       ['gas', 176.8],\n",
       "       ['gas', 176.8],\n",
       "       ['gas', 176.8],\n",
       "       ['gas', 176.8],\n",
       "       ['gas', 189.0],\n",
       "       ['gas', 189.0],\n",
       "       ['gas', 193.8],\n",
       "       ['gas', 197.0],\n",
       "       ['gas', 141.1],\n",
       "       ['gas', 155.9],\n",
       "       ['gas', 158.8],\n",
       "       ['gas', 157.3],\n",
       "       ['gas', 157.3],\n",
       "       ['gas', 157.3],\n",
       "       ['gas', 157.3],\n",
       "       ['gas', 157.3],\n",
       "       ['gas', 157.3],\n",
       "       ['gas', 157.3],\n",
       "       ['gas', 174.6],\n",
       "       ['gas', 173.2],\n",
       "       ['gas', 144.6],\n",
       "       ['gas', 144.6],\n",
       "       ['gas', 150.0],\n",
       "       ['gas', 150.0],\n",
       "       ['gas', 150.0],\n",
       "       ['gas', 163.4],\n",
       "       ['gas', 157.1],\n",
       "       ['gas', 167.5],\n",
       "       ['gas', 167.5],\n",
       "       ['gas', 175.4],\n",
       "       ['gas', 175.4],\n",
       "       ['gas', 175.4],\n",
       "       ['gas', 169.1],\n",
       "       ['gas', 170.7],\n",
       "       ['gas', 172.6],\n",
       "       ['gas', 199.6],\n",
       "       ['gas', 199.6],\n",
       "       ['gas', 191.7],\n",
       "       ['gas', 159.1],\n",
       "       ['gas', 159.1],\n",
       "       ['gas', 159.1],\n",
       "       ['gas', 166.8],\n",
       "       ['gas', 166.8],\n",
       "       ['gas', 177.8],\n",
       "       ['gas', 177.8],\n",
       "       ['gas', 177.8],\n",
       "       ['gas', 177.8],\n",
       "       ['diesel', 177.8],\n",
       "       ['gas', 177.8],\n",
       "       ['gas', 175.0],\n",
       "       ['diesel', 175.0],\n",
       "       ['diesel', 190.9],\n",
       "       ['diesel', 190.9],\n",
       "       ['diesel', 187.5],\n",
       "       ['diesel', 202.6],\n",
       "       ['gas', 202.6],\n",
       "       ['gas', 180.3],\n",
       "       ['gas', 208.1],\n",
       "       ['gas', 199.2],\n",
       "       ['gas', 178.4],\n",
       "       ['gas', 157.3],\n",
       "       ['gas', 157.3],\n",
       "       ['gas', 157.3],\n",
       "       ['gas', 157.3],\n",
       "       ['gas', 173.0],\n",
       "       ['gas', 173.0],\n",
       "       ['gas', 173.2],\n",
       "       ['gas', 173.2],\n",
       "       ['gas', 173.2],\n",
       "       ['gas', 172.4],\n",
       "       ['gas', 172.4],\n",
       "       ['gas', 172.4],\n",
       "       ['gas', 172.4],\n",
       "       ['gas', 165.3],\n",
       "       ['diesel', 165.3],\n",
       "       ['gas', 165.3],\n",
       "       ['gas', 165.3],\n",
       "       ['gas', 170.2],\n",
       "       ['gas', 165.3],\n",
       "       ['gas', 165.6],\n",
       "       ['gas', 165.3],\n",
       "       ['gas', 170.2],\n",
       "       ['gas', 162.4],\n",
       "       ['gas', 173.4],\n",
       "       ['gas', 173.4],\n",
       "       ['gas', 181.7],\n",
       "       ['gas', 184.6],\n",
       "       ['gas', 184.6],\n",
       "       ['gas', 170.7],\n",
       "       ['gas', 170.7],\n",
       "       ['gas', 178.5],\n",
       "       ['gas', 186.7],\n",
       "       ['diesel', 186.7],\n",
       "       ['gas', 198.9],\n",
       "       ['diesel', 198.9],\n",
       "       ['gas', 186.7],\n",
       "       ['diesel', 186.7],\n",
       "       ['gas', 198.9],\n",
       "       ['diesel', 198.9],\n",
       "       ['gas', 186.7],\n",
       "       ['diesel', 186.7],\n",
       "       ['gas', 186.7],\n",
       "       ['gas', 157.3],\n",
       "       ['gas', 157.3],\n",
       "       ['gas', 157.3],\n",
       "       ['gas', 167.3],\n",
       "       ['gas', 167.3],\n",
       "       ['gas', 174.6],\n",
       "       ['gas', 173.2],\n",
       "       ['gas', 168.9],\n",
       "       ['gas', 168.9],\n",
       "       ['gas', 168.9],\n",
       "       ['gas', 168.9],\n",
       "       ['gas', 186.6],\n",
       "       ['gas', 186.6],\n",
       "       ['gas', 186.6],\n",
       "       ['gas', 186.6],\n",
       "       ['gas', 186.6],\n",
       "       ['gas', 186.6],\n",
       "       ['gas', 156.9],\n",
       "       ['gas', 157.9],\n",
       "       ['gas', 157.3],\n",
       "       ['gas', 172.0],\n",
       "       ['gas', 172.0],\n",
       "       ['gas', 172.0],\n",
       "       ['gas', 172.0],\n",
       "       ['gas', 172.0],\n",
       "       ['gas', 173.5],\n",
       "       ['gas', 173.5],\n",
       "       ['gas', 173.6],\n",
       "       ['gas', 173.6],\n",
       "       ['gas', 158.7],\n",
       "       ['gas', 158.7],\n",
       "       ['gas', 158.7],\n",
       "       ['gas', 169.7],\n",
       "       ['gas', 169.7],\n",
       "       ['gas', 169.7],\n",
       "       ['gas', 166.3],\n",
       "       ['gas', 166.3],\n",
       "       ['diesel', 166.3],\n",
       "       ['diesel', 166.3],\n",
       "       ['gas', 166.3],\n",
       "       ['gas', 166.3],\n",
       "       ['gas', 166.3],\n",
       "       ['gas', 168.7],\n",
       "       ['gas', 168.7],\n",
       "       ['gas', 168.7],\n",
       "       ['gas', 168.7],\n",
       "       ['gas', 176.2],\n",
       "       ['gas', 176.2],\n",
       "       ['gas', 176.2],\n",
       "       ['gas', 176.2],\n",
       "       ['gas', 176.2],\n",
       "       ['gas', 176.2],\n",
       "       ['gas', 175.6],\n",
       "       ['diesel', 175.6],\n",
       "       ['gas', 175.6],\n",
       "       ['gas', 175.6],\n",
       "       ['gas', 175.6],\n",
       "       ['gas', 183.5],\n",
       "       ['gas', 183.5],\n",
       "       ['gas', 187.8],\n",
       "       ['gas', 187.8],\n",
       "       ['diesel', 171.7],\n",
       "       ['gas', 171.7],\n",
       "       ['diesel', 171.7],\n",
       "       ['gas', 171.7],\n",
       "       ['gas', 171.7],\n",
       "       ['diesel', 171.7],\n",
       "       ['gas', 171.7],\n",
       "       ['gas', 159.3],\n",
       "       ['gas', 165.7],\n",
       "       ['gas', 180.2],\n",
       "       ['diesel', 180.2],\n",
       "       ['gas', 183.1],\n",
       "       ['gas', 188.8],\n",
       "       ['gas', 188.8],\n",
       "       ['gas', 188.8],\n",
       "       ['gas', 188.8],\n",
       "       ['gas', 188.8],\n",
       "       ['gas', 188.8],\n",
       "       ['gas', 188.8],\n",
       "       ['gas', 188.8],\n",
       "       ['gas', 188.8],\n",
       "       ['diesel', 188.8],\n",
       "       ['gas', 188.8]], dtype=object)"
      ]
     },
     "execution_count": 66,
     "metadata": {},
     "output_type": "execute_result"
    }
   ],
   "source": [
    "X2"
   ]
  },
  {
   "cell_type": "code",
   "execution_count": 63,
   "id": "2d289540",
   "metadata": {},
   "outputs": [],
   "source": [
    "X3=data.iloc[::,2].values"
   ]
  },
  {
   "cell_type": "code",
   "execution_count": 64,
   "id": "203755d4",
   "metadata": {},
   "outputs": [
    {
     "data": {
      "text/plain": [
       "array([48.8, 48.8, 52.4, 54.3, 54.3, 53.1, 55.7, 55.7, 55.9, 54.3, 54.3,\n",
       "       54.3, 54.3, 55.7, 55.7, 53.7, 56.3, 53.2, 52. , 52. , 50.8, 50.8,\n",
       "       50.8, 50.6, 50.6, 50.6, 50.6, 59.8, 50.2, 50.8, 50.8, 52.6, 52.6,\n",
       "       52.6, 54.5, 58.3, 53.3, 53.3, 54.1, 54.1, 54.1, 51. , 53.5, 51.4,\n",
       "       52.8, 52.8, 47.8, 54.1, 54.1, 54.1, 54.1, 54.1, 53.7, 55.5, 53.7,\n",
       "       55.5, 55.5, 55.5, 54.4, 54.4, 56.5, 58.7, 54.9, 56.3, 56.5, 50.8,\n",
       "       56.7, 55.4, 54.8, 50.8, 50.8, 50.8, 50.8, 49.4, 49.4, 50.2, 50.2,\n",
       "       50.2, 51.6, 51.6, 51.6, 51.6, 54.5, 54.5, 54.5, 54.5, 53.5, 54.5,\n",
       "       53.3, 54.5, 53.5, 53.3, 54.7, 54.7, 55.1, 56.1, 55.1, 49.7, 49.7,\n",
       "       49.7, 56.7, 56.7, 58.7, 58.7, 56.7, 56.7, 56.7, 58.7, 56.7, 56.7,\n",
       "       56. , 50.8, 50.8, 50.6, 50.8, 50.8, 59.8, 50.2, 50.2, 51.6, 51.6,\n",
       "       51.6, 56.1, 56.1, 56.1, 56.1, 56.1, 56.1, 53.7, 53.7, 55.7, 52.5,\n",
       "       52.5, 52.5, 54.3, 54.3, 53. , 53. , 54.9, 54.9, 54.5, 54.5, 54.5,\n",
       "       59.1, 59.1, 59.1, 53. , 52.8, 53. , 52.8, 53. , 52.8, 52.8, 52.6,\n",
       "       52.6, 52.6, 52.6, 52. , 52. , 52. , 52. , 52. , 53. , 54.9, 54.9,\n",
       "       53.9, 54.9, 53.9, 52. , 52. , 54.1, 54.1, 55.7, 55.7, 55.7, 55.7,\n",
       "       55.7, 55.7, 55.7, 55.6, 51.4, 55.1, 55.1, 55.1, 56.2, 57.5, 56.2,\n",
       "       57.5, 56.2, 57.5, 55.5, 55.5, 55.5, 55.5, 55.5])"
      ]
     },
     "execution_count": 64,
     "metadata": {},
     "output_type": "execute_result"
    }
   ],
   "source": [
    "X3"
   ]
  },
  {
   "cell_type": "code",
   "execution_count": 24,
   "id": "e1eb2f9c",
   "metadata": {},
   "outputs": [],
   "source": [
    "X4=data.iloc[:,3].values"
   ]
  },
  {
   "cell_type": "code",
   "execution_count": 25,
   "id": "31378208",
   "metadata": {},
   "outputs": [
    {
     "data": {
      "text/plain": [
       "array(['four', 'four', 'six', 'four', 'five', 'five', 'five', 'five',\n",
       "       'five', 'four', 'four', 'six', 'six', 'six', 'six', 'six', 'six',\n",
       "       'three', 'four', 'four', 'four', 'four', 'four', 'four', 'four',\n",
       "       'four', 'four', 'four', 'four', 'four', 'four', 'four', 'four',\n",
       "       'four', 'four', 'four', 'four', 'four', 'four', 'four', 'four',\n",
       "       'four', 'four', 'four', 'six', 'six', 'twelve', 'four', 'four',\n",
       "       'four', 'four', 'four', 'four', 'four', 'four', 'four', 'four',\n",
       "       'four', 'four', 'four', 'five', 'five', 'five', 'five', 'eight',\n",
       "       'eight', 'eight', 'eight', 'four', 'four', 'four', 'four', 'four',\n",
       "       'four', 'four', 'four', 'four', 'four', 'four', 'four', 'four',\n",
       "       'four', 'four', 'four', 'four', 'four', 'four', 'four', 'four',\n",
       "       'four', 'four', 'four', 'four', 'four', 'six', 'six', 'six', 'six',\n",
       "       'six', 'six', 'four', 'four', 'four', 'four', 'four', 'four',\n",
       "       'four', 'four', 'four', 'four', 'four', 'four', 'four', 'four',\n",
       "       'four', 'four', 'four', 'four', 'four', 'six', 'six', 'six',\n",
       "       'four', 'four', 'four', 'four', 'four', 'four', 'four', 'four',\n",
       "       'four', 'four', 'four', 'four', 'four', 'four', 'four', 'four',\n",
       "       'four', 'four', 'four', 'four', 'four', 'four', 'four', 'four',\n",
       "       'four', 'four', 'four', 'four', 'four', 'four', 'four', 'four',\n",
       "       'four', 'four', 'four', 'four', 'four', 'four', 'four', 'four',\n",
       "       'four', 'four', 'four', 'four', 'four', 'four', 'six', 'six',\n",
       "       'six', 'six', 'four', 'four', 'four', 'four', 'four', 'four',\n",
       "       'four', 'four', 'four', 'five', 'four', 'four', 'four', 'four',\n",
       "       'four', 'four', 'four', 'four', 'four', 'four', 'six', 'six',\n",
       "       'four'], dtype=object)"
      ]
     },
     "execution_count": 25,
     "metadata": {},
     "output_type": "execute_result"
    }
   ],
   "source": [
    "X4"
   ]
  },
  {
   "cell_type": "code",
   "execution_count": 26,
   "id": "523cb305",
   "metadata": {},
   "outputs": [],
   "source": [
    "X5=data.iloc[:,4].values"
   ]
  },
  {
   "cell_type": "code",
   "execution_count": 27,
   "id": "756e4f69",
   "metadata": {},
   "outputs": [
    {
     "data": {
      "text/plain": [
       "array([130, 130, 152, 109, 136, 136, 136, 136, 131, 108, 108, 164, 164,\n",
       "       164, 209, 209, 209,  61,  90,  90,  90,  90,  98,  90,  90,  90,\n",
       "        98, 122, 156,  92,  92,  79,  92,  92,  92,  92, 110, 110, 110,\n",
       "       110, 110, 110, 111, 119, 258, 258, 326,  91,  91,  91,  91,  91,\n",
       "       122, 122, 122, 122, 122, 122, 140, 134, 183, 183, 183, 183, 234,\n",
       "       234, 308, 304, 140,  92,  92,  92,  98, 110, 122, 156, 156, 156,\n",
       "       122, 122, 110, 110,  97, 103,  97,  97,  97,  97,  97,  97,  97,\n",
       "        97, 120, 120, 181, 181, 181, 181, 181, 181, 120, 152, 120, 152,\n",
       "       120, 152, 120, 152, 120, 152, 134,  90,  98,  90,  90,  98, 122,\n",
       "       156, 151, 194, 194, 194, 121, 121, 121, 121, 121, 121,  97, 108,\n",
       "       108, 108, 108, 108, 108, 108, 108, 108, 108, 108,  92,  92,  92,\n",
       "        92,  92,  92,  98,  98, 110, 110,  98,  98,  98,  98,  98,  98,\n",
       "        98, 146, 146, 146, 146, 146, 146, 122, 110, 122, 122, 122, 171,\n",
       "       171, 171, 161,  97, 109,  97, 109, 109,  97, 109, 109, 109, 136,\n",
       "        97, 109, 141, 141, 141, 141, 130, 130, 141, 141, 173, 145, 141],\n",
       "      dtype=int64)"
      ]
     },
     "execution_count": 27,
     "metadata": {},
     "output_type": "execute_result"
    }
   ],
   "source": [
    "X5"
   ]
  },
  {
   "cell_type": "code",
   "execution_count": 28,
   "id": "8ed67e01",
   "metadata": {},
   "outputs": [],
   "source": [
    "X6=data.iloc[:,5].values"
   ]
  },
  {
   "cell_type": "code",
   "execution_count": 29,
   "id": "2eb0e562",
   "metadata": {},
   "outputs": [
    {
     "data": {
      "text/plain": [
       "array([111, 111, 154, 102, 115, 110, 110, 110, 140, 101, 101, 121, 121,\n",
       "       121, 182, 182, 182,  48,  70,  70,  68,  68, 102,  68,  68,  68,\n",
       "       102,  88, 145,  58,  76,  60,  76,  76,  76,  76,  86,  86,  86,\n",
       "        86, 101, 100,  78,  90, 176, 176, 262,  68,  68,  68,  68,  68,\n",
       "        84,  84,  84,  84,  64,  84, 120,  72, 123, 123, 123, 123, 155,\n",
       "       155, 184, 184, 175,  68,  68,  68, 102, 116,  88, 145, 145, 145,\n",
       "        88,  88, 116, 116,  69,  55,  69,  69,  69,  69,  69,  69,  69,\n",
       "        69,  97,  97, 152, 152, 152, 160, 200, 160,  97,  95,  97,  95,\n",
       "        95,  95,  95,  95,  97,  95, 142,  68, 102,  68,  68,  68,  88,\n",
       "       145, 143, 207, 207, 207, 110, 110, 110, 110, 160, 160,  69,  73,\n",
       "        73,  82,  82,  94,  82, 111,  82,  94,  82, 111,  62,  62,  62,\n",
       "        62,  62,  62,  70,  70,  56,  56,  70,  70,  70,  70,  70, 112,\n",
       "       112, 116, 116, 116, 116, 116, 116,  92,  73,  92,  92,  92, 161,\n",
       "       161, 156, 156,  52,  85,  52,  85,  85,  68, 100,  90,  90, 110,\n",
       "        68,  88, 114, 114, 114, 114, 162, 162, 114, 160, 134, 106, 114],\n",
       "      dtype=int64)"
      ]
     },
     "execution_count": 29,
     "metadata": {},
     "output_type": "execute_result"
    }
   ],
   "source": [
    "X6"
   ]
  },
  {
   "cell_type": "code",
   "execution_count": 30,
   "id": "2ad30ad7",
   "metadata": {},
   "outputs": [
    {
     "data": {
      "text/plain": [
       "<matplotlib.collections.PathCollection at 0x1cb24b3cf70>"
      ]
     },
     "execution_count": 30,
     "metadata": {},
     "output_type": "execute_result"
    },
    {
     "data": {
      "image/png": "[encoded data removed]",
      "text/plain": [
       "<Figure size 432x288 with 1 Axes>"
      ]
     },
     "metadata": {
      "needs_background": "light"
     },
     "output_type": "display_data"
    }
   ],
   "source": [
    "plt.scatter(X2,Y)"
   ]
  },
  {
   "cell_type": "code",
   "execution_count": 31,
   "id": "249e5a65",
   "metadata": {},
   "outputs": [
    {
     "data": {
      "text/plain": [
       "<matplotlib.collections.PathCollection at 0x1cb24bba220>"
      ]
     },
     "execution_count": 31,
     "metadata": {},
     "output_type": "execute_result"
    },
    {
     "data": {
      "image/png": "[encoded data removed]",
      "text/plain": [
       "<Figure size 432x288 with 1 Axes>"
      ]
     },
     "metadata": {
      "needs_background": "light"
     },
     "output_type": "display_data"
    }
   ],
   "source": [
    "plt.scatter(X3,Y)"
   ]
  },
  {
   "cell_type": "code",
   "execution_count": 32,
   "id": "c19c9838",
   "metadata": {},
   "outputs": [
    {
     "data": {
      "text/plain": [
       "<matplotlib.collections.PathCollection at 0x1cb24c0ff40>"
      ]
     },
     "execution_count": 32,
     "metadata": {},
     "output_type": "execute_result"
    },
    {
     "data": {
      "image/png": "[encoded data removed]",
      "text/plain": [
       "<Figure size 432x288 with 1 Axes>"
      ]
     },
     "metadata": {
      "needs_background": "light"
     },
     "output_type": "display_data"
    }
   ],
   "source": [
    "plt.scatter(X4,Y)"
   ]
  },
  {
   "cell_type": "code",
   "execution_count": 33,
   "id": "0c6012e6",
   "metadata": {},
   "outputs": [
    {
     "data": {
      "text/plain": [
       "<matplotlib.collections.PathCollection at 0x1cb24c6d0d0>"
      ]
     },
     "execution_count": 33,
     "metadata": {},
     "output_type": "execute_result"
    },
    {
     "data": {
      "image/png": "[encoded data removed]",
      "text/plain": [
       "<Figure size 432x288 with 1 Axes>"
      ]
     },
     "metadata": {
      "needs_background": "light"
     },
     "output_type": "display_data"
    }
   ],
   "source": [
    "plt.scatter(X5,Y)"
   ]
  },
  {
   "cell_type": "code",
   "execution_count": 34,
   "id": "1d9f9402",
   "metadata": {},
   "outputs": [
    {
     "data": {
      "text/plain": [
       "<matplotlib.collections.PathCollection at 0x1cb24cd56d0>"
      ]
     },
     "execution_count": 34,
     "metadata": {},
     "output_type": "execute_result"
    },
    {
     "data": {
      "image/png": "[encoded data removed]",
      "text/plain": [
       "<Figure size 432x288 with 1 Axes>"
      ]
     },
     "metadata": {
      "needs_background": "light"
     },
     "output_type": "display_data"
    }
   ],
   "source": [
    "plt.scatter(X6,Y)"
   ]
  },
  {
   "cell_type": "code",
   "execution_count": 48,
   "id": "d46e9289",
   "metadata": {},
   "outputs": [
    {
     "data": {
      "text/plain": [
       "<matplotlib.collections.PathCollection at 0x1cb24df6b80>"
      ]
     },
     "execution_count": 48,
     "metadata": {},
     "output_type": "execute_result"
    },
    {
     "data": {
      "image/png": "[encoded data removed]",
      "text/plain": [
       "<Figure size 432x288 with 1 Axes>"
      ]
     },
     "metadata": {
      "needs_background": "light"
     },
     "output_type": "display_data"
    }
   ],
   "source": [
    "plt.scatter(X2,Y)"
   ]
  },
  {
   "cell_type": "code",
   "execution_count": 49,
   "id": "fc3d788f",
   "metadata": {},
   "outputs": [],
   "source": [
    "model = LinearRegression()"
   ]
  },
  {
   "cell_type": "code",
   "execution_count": 67,
   "id": "8ef41cad",
   "metadata": {},
   "outputs": [
    {
     "ename": "ValueError",
     "evalue": "Expected 2D array, got 1D array instead:\narray=[48.8 48.8 52.4 54.3 54.3 53.1 55.7 55.7 55.9 54.3 54.3 54.3 54.3 55.7\n 55.7 53.7 56.3 53.2 52.  52.  50.8 50.8 50.8 50.6 50.6 50.6 50.6 59.8\n 50.2 50.8 50.8 52.6 52.6 52.6 54.5 58.3 53.3 53.3 54.1 54.1 54.1 51.\n 53.5 51.4 52.8 52.8 47.8 54.1 54.1 54.1 54.1 54.1 53.7 55.5 53.7 55.5\n 55.5 55.5 54.4 54.4 56.5 58.7 54.9 56.3 56.5 50.8 56.7 55.4 54.8 50.8\n 50.8 50.8 50.8 49.4 49.4 50.2 50.2 50.2 51.6 51.6 51.6 51.6 54.5 54.5\n 54.5 54.5 53.5 54.5 53.3 54.5 53.5 53.3 54.7 54.7 55.1 56.1 55.1 49.7\n 49.7 49.7 56.7 56.7 58.7 58.7 56.7 56.7 56.7 58.7 56.7 56.7 56.  50.8\n 50.8 50.6 50.8 50.8 59.8 50.2 50.2 51.6 51.6 51.6 56.1 56.1 56.1 56.1\n 56.1 56.1 53.7 53.7 55.7 52.5 52.5 52.5 54.3 54.3 53.  53.  54.9 54.9\n 54.5 54.5 54.5 59.1 59.1 59.1 53.  52.8 53.  52.8 53.  52.8 52.8 52.6\n 52.6 52.6 52.6 52.  52.  52.  52.  52.  53.  54.9 54.9 53.9 54.9 53.9\n 52.  52.  54.1 54.1 55.7 55.7 55.7 55.7 55.7 55.7 55.7 55.6 51.4 55.1\n 55.1 55.1 56.2 57.5 56.2 57.5 56.2 57.5 55.5 55.5 55.5 55.5 55.5].\nReshape your data either using array.reshape(-1, 1) if your data has a single feature or array.reshape(1, -1) if it contains a single sample.",
     "output_type": "error",
     "traceback": [
      "\u001b[1;31m---------------------------------------------------------------------------\u001b[0m",
      "\u001b[1;31mValueError\u001b[0m                                Traceback (most recent call last)",
      "\u001b[1;32m<ipython-input-67-6461af48bc0b>\u001b[0m in \u001b[0;36m<module>\u001b[1;34m\u001b[0m\n\u001b[1;32m----> 1\u001b[1;33m \u001b[0mmodel\u001b[0m\u001b[1;33m.\u001b[0m\u001b[0mfit\u001b[0m\u001b[1;33m(\u001b[0m\u001b[0mX3\u001b[0m\u001b[1;33m,\u001b[0m\u001b[0mY\u001b[0m\u001b[1;33m)\u001b[0m\u001b[1;33m\u001b[0m\u001b[1;33m\u001b[0m\u001b[0m\n\u001b[0m",
      "\u001b[1;32mG:\\Softwares\\Anaconda\\install\\lib\\site-packages\\sklearn\\linear_model\\_base.py\u001b[0m in \u001b[0;36mfit\u001b[1;34m(self, X, y, sample_weight)\u001b[0m\n\u001b[0;32m    516\u001b[0m         \u001b[0maccept_sparse\u001b[0m \u001b[1;33m=\u001b[0m \u001b[1;32mFalse\u001b[0m \u001b[1;32mif\u001b[0m \u001b[0mself\u001b[0m\u001b[1;33m.\u001b[0m\u001b[0mpositive\u001b[0m \u001b[1;32melse\u001b[0m \u001b[1;33m[\u001b[0m\u001b[1;34m'csr'\u001b[0m\u001b[1;33m,\u001b[0m \u001b[1;34m'csc'\u001b[0m\u001b[1;33m,\u001b[0m \u001b[1;34m'coo'\u001b[0m\u001b[1;33m]\u001b[0m\u001b[1;33m\u001b[0m\u001b[1;33m\u001b[0m\u001b[0m\n\u001b[0;32m    517\u001b[0m \u001b[1;33m\u001b[0m\u001b[0m\n\u001b[1;32m--> 518\u001b[1;33m         X, y = self._validate_data(X, y, accept_sparse=accept_sparse,\n\u001b[0m\u001b[0;32m    519\u001b[0m                                    y_numeric=True, multi_output=True)\n\u001b[0;32m    520\u001b[0m \u001b[1;33m\u001b[0m\u001b[0m\n",
      "\u001b[1;32mG:\\Softwares\\Anaconda\\install\\lib\\site-packages\\sklearn\\base.py\u001b[0m in \u001b[0;36m_validate_data\u001b[1;34m(self, X, y, reset, validate_separately, **check_params)\u001b[0m\n\u001b[0;32m    431\u001b[0m                 \u001b[0my\u001b[0m \u001b[1;33m=\u001b[0m \u001b[0mcheck_array\u001b[0m\u001b[1;33m(\u001b[0m\u001b[0my\u001b[0m\u001b[1;33m,\u001b[0m \u001b[1;33m**\u001b[0m\u001b[0mcheck_y_params\u001b[0m\u001b[1;33m)\u001b[0m\u001b[1;33m\u001b[0m\u001b[1;33m\u001b[0m\u001b[0m\n\u001b[0;32m    432\u001b[0m             \u001b[1;32melse\u001b[0m\u001b[1;33m:\u001b[0m\u001b[1;33m\u001b[0m\u001b[1;33m\u001b[0m\u001b[0m\n\u001b[1;32m--> 433\u001b[1;33m                 \u001b[0mX\u001b[0m\u001b[1;33m,\u001b[0m \u001b[0my\u001b[0m \u001b[1;33m=\u001b[0m \u001b[0mcheck_X_y\u001b[0m\u001b[1;33m(\u001b[0m\u001b[0mX\u001b[0m\u001b[1;33m,\u001b[0m \u001b[0my\u001b[0m\u001b[1;33m,\u001b[0m \u001b[1;33m**\u001b[0m\u001b[0mcheck_params\u001b[0m\u001b[1;33m)\u001b[0m\u001b[1;33m\u001b[0m\u001b[1;33m\u001b[0m\u001b[0m\n\u001b[0m\u001b[0;32m    434\u001b[0m             \u001b[0mout\u001b[0m \u001b[1;33m=\u001b[0m \u001b[0mX\u001b[0m\u001b[1;33m,\u001b[0m \u001b[0my\u001b[0m\u001b[1;33m\u001b[0m\u001b[1;33m\u001b[0m\u001b[0m\n\u001b[0;32m    435\u001b[0m \u001b[1;33m\u001b[0m\u001b[0m\n",
      "\u001b[1;32mG:\\Softwares\\Anaconda\\install\\lib\\site-packages\\sklearn\\utils\\validation.py\u001b[0m in \u001b[0;36minner_f\u001b[1;34m(*args, **kwargs)\u001b[0m\n\u001b[0;32m     61\u001b[0m             \u001b[0mextra_args\u001b[0m \u001b[1;33m=\u001b[0m \u001b[0mlen\u001b[0m\u001b[1;33m(\u001b[0m\u001b[0margs\u001b[0m\u001b[1;33m)\u001b[0m \u001b[1;33m-\u001b[0m \u001b[0mlen\u001b[0m\u001b[1;33m(\u001b[0m\u001b[0mall_args\u001b[0m\u001b[1;33m)\u001b[0m\u001b[1;33m\u001b[0m\u001b[1;33m\u001b[0m\u001b[0m\n\u001b[0;32m     62\u001b[0m             \u001b[1;32mif\u001b[0m \u001b[0mextra_args\u001b[0m \u001b[1;33m<=\u001b[0m \u001b[1;36m0\u001b[0m\u001b[1;33m:\u001b[0m\u001b[1;33m\u001b[0m\u001b[1;33m\u001b[0m\u001b[0m\n\u001b[1;32m---> 63\u001b[1;33m                 \u001b[1;32mreturn\u001b[0m \u001b[0mf\u001b[0m\u001b[1;33m(\u001b[0m\u001b[1;33m*\u001b[0m\u001b[0margs\u001b[0m\u001b[1;33m,\u001b[0m \u001b[1;33m**\u001b[0m\u001b[0mkwargs\u001b[0m\u001b[1;33m)\u001b[0m\u001b[1;33m\u001b[0m\u001b[1;33m\u001b[0m\u001b[0m\n\u001b[0m\u001b[0;32m     64\u001b[0m \u001b[1;33m\u001b[0m\u001b[0m\n\u001b[0;32m     65\u001b[0m             \u001b[1;31m# extra_args > 0\u001b[0m\u001b[1;33m\u001b[0m\u001b[1;33m\u001b[0m\u001b[1;33m\u001b[0m\u001b[0m\n",
      "\u001b[1;32mG:\\Softwares\\Anaconda\\install\\lib\\site-packages\\sklearn\\utils\\validation.py\u001b[0m in \u001b[0;36mcheck_X_y\u001b[1;34m(X, y, accept_sparse, accept_large_sparse, dtype, order, copy, force_all_finite, ensure_2d, allow_nd, multi_output, ensure_min_samples, ensure_min_features, y_numeric, estimator)\u001b[0m\n\u001b[0;32m    812\u001b[0m         \u001b[1;32mraise\u001b[0m \u001b[0mValueError\u001b[0m\u001b[1;33m(\u001b[0m\u001b[1;34m\"y cannot be None\"\u001b[0m\u001b[1;33m)\u001b[0m\u001b[1;33m\u001b[0m\u001b[1;33m\u001b[0m\u001b[0m\n\u001b[0;32m    813\u001b[0m \u001b[1;33m\u001b[0m\u001b[0m\n\u001b[1;32m--> 814\u001b[1;33m     X = check_array(X, accept_sparse=accept_sparse,\n\u001b[0m\u001b[0;32m    815\u001b[0m                     \u001b[0maccept_large_sparse\u001b[0m\u001b[1;33m=\u001b[0m\u001b[0maccept_large_sparse\u001b[0m\u001b[1;33m,\u001b[0m\u001b[1;33m\u001b[0m\u001b[1;33m\u001b[0m\u001b[0m\n\u001b[0;32m    816\u001b[0m                     \u001b[0mdtype\u001b[0m\u001b[1;33m=\u001b[0m\u001b[0mdtype\u001b[0m\u001b[1;33m,\u001b[0m \u001b[0morder\u001b[0m\u001b[1;33m=\u001b[0m\u001b[0morder\u001b[0m\u001b[1;33m,\u001b[0m \u001b[0mcopy\u001b[0m\u001b[1;33m=\u001b[0m\u001b[0mcopy\u001b[0m\u001b[1;33m,\u001b[0m\u001b[1;33m\u001b[0m\u001b[1;33m\u001b[0m\u001b[0m\n",
      "\u001b[1;32mG:\\Softwares\\Anaconda\\install\\lib\\site-packages\\sklearn\\utils\\validation.py\u001b[0m in \u001b[0;36minner_f\u001b[1;34m(*args, **kwargs)\u001b[0m\n\u001b[0;32m     61\u001b[0m             \u001b[0mextra_args\u001b[0m \u001b[1;33m=\u001b[0m \u001b[0mlen\u001b[0m\u001b[1;33m(\u001b[0m\u001b[0margs\u001b[0m\u001b[1;33m)\u001b[0m \u001b[1;33m-\u001b[0m \u001b[0mlen\u001b[0m\u001b[1;33m(\u001b[0m\u001b[0mall_args\u001b[0m\u001b[1;33m)\u001b[0m\u001b[1;33m\u001b[0m\u001b[1;33m\u001b[0m\u001b[0m\n\u001b[0;32m     62\u001b[0m             \u001b[1;32mif\u001b[0m \u001b[0mextra_args\u001b[0m \u001b[1;33m<=\u001b[0m \u001b[1;36m0\u001b[0m\u001b[1;33m:\u001b[0m\u001b[1;33m\u001b[0m\u001b[1;33m\u001b[0m\u001b[0m\n\u001b[1;32m---> 63\u001b[1;33m                 \u001b[1;32mreturn\u001b[0m \u001b[0mf\u001b[0m\u001b[1;33m(\u001b[0m\u001b[1;33m*\u001b[0m\u001b[0margs\u001b[0m\u001b[1;33m,\u001b[0m \u001b[1;33m**\u001b[0m\u001b[0mkwargs\u001b[0m\u001b[1;33m)\u001b[0m\u001b[1;33m\u001b[0m\u001b[1;33m\u001b[0m\u001b[0m\n\u001b[0m\u001b[0;32m     64\u001b[0m \u001b[1;33m\u001b[0m\u001b[0m\n\u001b[0;32m     65\u001b[0m             \u001b[1;31m# extra_args > 0\u001b[0m\u001b[1;33m\u001b[0m\u001b[1;33m\u001b[0m\u001b[1;33m\u001b[0m\u001b[0m\n",
      "\u001b[1;32mG:\\Softwares\\Anaconda\\install\\lib\\site-packages\\sklearn\\utils\\validation.py\u001b[0m in \u001b[0;36mcheck_array\u001b[1;34m(array, accept_sparse, accept_large_sparse, dtype, order, copy, force_all_finite, ensure_2d, allow_nd, ensure_min_samples, ensure_min_features, estimator)\u001b[0m\n\u001b[0;32m    635\u001b[0m             \u001b[1;31m# If input is 1D raise error\u001b[0m\u001b[1;33m\u001b[0m\u001b[1;33m\u001b[0m\u001b[1;33m\u001b[0m\u001b[0m\n\u001b[0;32m    636\u001b[0m             \u001b[1;32mif\u001b[0m \u001b[0marray\u001b[0m\u001b[1;33m.\u001b[0m\u001b[0mndim\u001b[0m \u001b[1;33m==\u001b[0m \u001b[1;36m1\u001b[0m\u001b[1;33m:\u001b[0m\u001b[1;33m\u001b[0m\u001b[1;33m\u001b[0m\u001b[0m\n\u001b[1;32m--> 637\u001b[1;33m                 raise ValueError(\n\u001b[0m\u001b[0;32m    638\u001b[0m                     \u001b[1;34m\"Expected 2D array, got 1D array instead:\\narray={}.\\n\"\u001b[0m\u001b[1;33m\u001b[0m\u001b[1;33m\u001b[0m\u001b[0m\n\u001b[0;32m    639\u001b[0m                     \u001b[1;34m\"Reshape your data either using array.reshape(-1, 1) if \"\u001b[0m\u001b[1;33m\u001b[0m\u001b[1;33m\u001b[0m\u001b[0m\n",
      "\u001b[1;31mValueError\u001b[0m: Expected 2D array, got 1D array instead:\narray=[48.8 48.8 52.4 54.3 54.3 53.1 55.7 55.7 55.9 54.3 54.3 54.3 54.3 55.7\n 55.7 53.7 56.3 53.2 52.  52.  50.8 50.8 50.8 50.6 50.6 50.6 50.6 59.8\n 50.2 50.8 50.8 52.6 52.6 52.6 54.5 58.3 53.3 53.3 54.1 54.1 54.1 51.\n 53.5 51.4 52.8 52.8 47.8 54.1 54.1 54.1 54.1 54.1 53.7 55.5 53.7 55.5\n 55.5 55.5 54.4 54.4 56.5 58.7 54.9 56.3 56.5 50.8 56.7 55.4 54.8 50.8\n 50.8 50.8 50.8 49.4 49.4 50.2 50.2 50.2 51.6 51.6 51.6 51.6 54.5 54.5\n 54.5 54.5 53.5 54.5 53.3 54.5 53.5 53.3 54.7 54.7 55.1 56.1 55.1 49.7\n 49.7 49.7 56.7 56.7 58.7 58.7 56.7 56.7 56.7 58.7 56.7 56.7 56.  50.8\n 50.8 50.6 50.8 50.8 59.8 50.2 50.2 51.6 51.6 51.6 56.1 56.1 56.1 56.1\n 56.1 56.1 53.7 53.7 55.7 52.5 52.5 52.5 54.3 54.3 53.  53.  54.9 54.9\n 54.5 54.5 54.5 59.1 59.1 59.1 53.  52.8 53.  52.8 53.  52.8 52.8 52.6\n 52.6 52.6 52.6 52.  52.  52.  52.  52.  53.  54.9 54.9 53.9 54.9 53.9\n 52.  52.  54.1 54.1 55.7 55.7 55.7 55.7 55.7 55.7 55.7 55.6 51.4 55.1\n 55.1 55.1 56.2 57.5 56.2 57.5 56.2 57.5 55.5 55.5 55.5 55.5 55.5].\nReshape your data either using array.reshape(-1, 1) if your data has a single feature or array.reshape(1, -1) if it contains a single sample."
     ]
    }
   ],
   "source": [
    "model.fit(X3,Y)"
   ]
  },
  {
   "cell_type": "code",
   "execution_count": null,
   "id": "11b0db17",
   "metadata": {},
   "outputs": [],
   "source": []
  }
 ],
 "metadata": {
  "kernelspec": {
   "display_name": "Python 3",
   "language": "python",
   "name": "python3"
  },
  "language_info": {
   "codemirror_mode": {
    "name": "ipython",
    "version": 3
   },
   "file_extension": ".py",
   "mimetype": "text/x-python",
   "name": "python",
   "nbconvert_exporter": "python",
   "pygments_lexer": "ipython3",
   "version": "3.8.8"
  }
 },
 "nbformat": 4,
 "nbformat_minor": 5
}
